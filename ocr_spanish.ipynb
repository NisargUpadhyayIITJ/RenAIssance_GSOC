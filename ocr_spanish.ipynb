version https://git-lfs.github.com/spec/v1
oid sha256:592f88a7c05acab5ccdeedba1e6c44ba7ca6a21841bcc8d93404ef07491ac984
size 31332945
